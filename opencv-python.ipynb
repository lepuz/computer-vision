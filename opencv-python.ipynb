{
 "cells": [
  {
   "cell_type": "code",
   "execution_count": 1,
   "id": "828aa782",
   "metadata": {
    "_cell_guid": "b1076dfc-b9ad-4769-8c92-a6c4dae69d19",
    "_uuid": "8f2839f25d086af736a60e9eeb907d3b93b6e0e5",
    "execution": {
     "iopub.execute_input": "2022-02-07T06:25:45.918737Z",
     "iopub.status.busy": "2022-02-07T06:25:45.917527Z",
     "iopub.status.idle": "2022-02-07T06:25:45.937469Z",
     "shell.execute_reply": "2022-02-07T06:25:45.938036Z",
     "shell.execute_reply.started": "2022-02-07T05:55:36.857524Z"
    },
    "papermill": {
     "duration": 0.029994,
     "end_time": "2022-02-07T06:25:45.938344",
     "exception": false,
     "start_time": "2022-02-07T06:25:45.908350",
     "status": "completed"
    },
    "tags": []
   },
   "outputs": [
    {
     "name": "stdout",
     "output_type": "stream",
     "text": [
      "/kaggle/input/lena-bmp/lenna.bmp\n"
     ]
    }
   ],
   "source": [
    "# This Python 3 environment comes with many helpful analytics libraries installed\n",
    "# It is defined by the kaggle/python Docker image: https://github.com/kaggle/docker-python\n",
    "# For example, here's several helpful packages to load\n",
    "\n",
    "import numpy as np # linear algebra\n",
    "import pandas as pd # data processing, CSV file I/O (e.g. pd.read_csv)\n",
    "\n",
    "# Input data files are available in the read-only \"../input/\" directory\n",
    "# For example, running this (by clicking run or pressing Shift+Enter) will list all files under the input directory\n",
    "\n",
    "import os\n",
    "for dirname, _, filenames in os.walk('/kaggle/input'):\n",
    "    for filename in filenames:\n",
    "        print(os.path.join(dirname, filename))\n",
    "\n",
    "# You can write up to 20GB to the current directory (/kaggle/working/) that gets preserved as output when you create a version using \"Save & Run All\" \n",
    "# You can also write temporary files to /kaggle/temp/, but they won't be saved outside of the current session"
   ]
  },
  {
   "cell_type": "code",
   "execution_count": 2,
   "id": "7dea9094",
   "metadata": {
    "execution": {
     "iopub.execute_input": "2022-02-07T06:25:45.953286Z",
     "iopub.status.busy": "2022-02-07T06:25:45.952356Z",
     "iopub.status.idle": "2022-02-07T06:25:46.306128Z",
     "shell.execute_reply": "2022-02-07T06:25:46.305160Z",
     "shell.execute_reply.started": "2022-02-07T06:00:33.530266Z"
    },
    "papermill": {
     "duration": 0.361778,
     "end_time": "2022-02-07T06:25:46.306284",
     "exception": false,
     "start_time": "2022-02-07T06:25:45.944506",
     "status": "completed"
    },
    "tags": []
   },
   "outputs": [
    {
     "name": "stdout",
     "output_type": "stream",
     "text": [
      "[[[141 141 141]\n",
      "  [142 142 142]\n",
      "  [141 141 141]\n",
      "  ...\n",
      "  [151 151 151]\n",
      "  [135 135 135]\n",
      "  [108 108 108]]\n",
      "\n",
      " [[142 142 142]\n",
      "  [142 142 142]\n",
      "  [141 141 141]\n",
      "  ...\n",
      "  [151 151 151]\n",
      "  [135 135 135]\n",
      "  [108 108 108]]\n",
      "\n",
      " [[142 142 142]\n",
      "  [142 142 142]\n",
      "  [141 141 141]\n",
      "  ...\n",
      "  [150 150 150]\n",
      "  [135 135 135]\n",
      "  [108 108 108]]\n",
      "\n",
      " ...\n",
      "\n",
      " [[ 32  32  32]\n",
      "  [ 31  31  31]\n",
      "  [ 36  36  36]\n",
      "  ...\n",
      "  [ 84  84  84]\n",
      "  [ 82  82  82]\n",
      "  [ 82  82  82]]\n",
      "\n",
      " [[ 32  32  32]\n",
      "  [ 32  32  32]\n",
      "  [ 40  40  40]\n",
      "  ...\n",
      "  [ 85  85  85]\n",
      "  [ 86  86  86]\n",
      "  [ 90  90  90]]\n",
      "\n",
      " [[ 32  32  32]\n",
      "  [ 32  32  32]\n",
      "  [ 39  39  39]\n",
      "  ...\n",
      "  [ 85  85  85]\n",
      "  [ 87  87  87]\n",
      "  [ 90  90  90]]]\n"
     ]
    }
   ],
   "source": [
    "import cv2 as cv\n",
    "\n",
    "img = cv.imread('/kaggle/input/lena-bmp/lenna.bmp')\n",
    "print(img)"
   ]
  },
  {
   "cell_type": "code",
   "execution_count": 3,
   "id": "63147b18",
   "metadata": {
    "execution": {
     "iopub.execute_input": "2022-02-07T06:25:46.324726Z",
     "iopub.status.busy": "2022-02-07T06:25:46.323723Z",
     "iopub.status.idle": "2022-02-07T06:25:46.327768Z",
     "shell.execute_reply": "2022-02-07T06:25:46.327271Z",
     "shell.execute_reply.started": "2022-02-07T06:00:25.013338Z"
    },
    "papermill": {
     "duration": 0.015188,
     "end_time": "2022-02-07T06:25:46.327890",
     "exception": false,
     "start_time": "2022-02-07T06:25:46.312702",
     "status": "completed"
    },
    "tags": []
   },
   "outputs": [
    {
     "name": "stdout",
     "output_type": "stream",
     "text": [
      "/kaggle/input/lena-bmp/lenna.bmp\n"
     ]
    }
   ],
   "source": [
    "import numpy as np # linear algebra\n",
    "import pandas as pd # data processing, CSV file I/O (e.g. pd.read_csv)\n",
    "\n",
    "# Input data files are available in the read-only \"../input/\" directory\n",
    "# For example, running this (by clicking run or pressing Shift+Enter) will list all files under the input directory\n",
    "\n",
    "import os\n",
    "for dirname, _, filenames in os.walk('/kaggle/input'):\n",
    "    for filename in filenames:\n",
    "        print(os.path.join(dirname, filename))\n"
   ]
  },
  {
   "cell_type": "code",
   "execution_count": null,
   "id": "a1401c77",
   "metadata": {
    "papermill": {
     "duration": 0.005526,
     "end_time": "2022-02-07T06:25:46.339615",
     "exception": false,
     "start_time": "2022-02-07T06:25:46.334089",
     "status": "completed"
    },
    "tags": []
   },
   "outputs": [],
   "source": []
  },
  {
   "cell_type": "code",
   "execution_count": null,
   "id": "8f2977c4",
   "metadata": {
    "papermill": {
     "duration": 0.005563,
     "end_time": "2022-02-07T06:25:46.350746",
     "exception": false,
     "start_time": "2022-02-07T06:25:46.345183",
     "status": "completed"
    },
    "tags": []
   },
   "outputs": [],
   "source": []
  }
 ],
 "metadata": {
  "kernelspec": {
   "display_name": "Python 3",
   "language": "python",
   "name": "python3"
  },
  "language_info": {
   "codemirror_mode": {
    "name": "ipython",
    "version": 3
   },
   "file_extension": ".py",
   "mimetype": "text/x-python",
   "name": "python",
   "nbconvert_exporter": "python",
   "pygments_lexer": "ipython3",
   "version": "3.7.12"
  },
  "papermill": {
   "default_parameters": {},
   "duration": 10.487192,
   "end_time": "2022-02-07T06:25:46.964934",
   "environment_variables": {},
   "exception": null,
   "input_path": "__notebook__.ipynb",
   "output_path": "__notebook__.ipynb",
   "parameters": {},
   "start_time": "2022-02-07T06:25:36.477742",
   "version": "2.3.3"
  }
 },
 "nbformat": 4,
 "nbformat_minor": 5
}
